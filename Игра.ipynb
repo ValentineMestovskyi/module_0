{
 "cells": [
  {
   "cell_type": "code",
   "execution_count": 22,
   "metadata": {},
   "outputs": [
    {
     "ename": "NameError",
     "evalue": "name 'count' is not defined",
     "output_type": "error",
     "traceback": [
      "\u001b[1;31m---------------------------------------------------------------------------\u001b[0m",
      "\u001b[1;31mNameError\u001b[0m                                 Traceback (most recent call last)",
      "\u001b[1;32m<ipython-input-22-fe30e0d1041d>\u001b[0m in \u001b[0;36m<module>\u001b[1;34m\u001b[0m\n\u001b[0;32m      4\u001b[0m     \u001b[0mcount\u001b[0m \u001b[1;33m=\u001b[0m \u001b[1;36m0\u001b[0m\u001b[1;33m\u001b[0m\u001b[1;33m\u001b[0m\u001b[0m\n\u001b[0;32m      5\u001b[0m \u001b[1;32mwhile\u001b[0m \u001b[1;32mTrue\u001b[0m\u001b[1;33m:\u001b[0m\u001b[1;33m\u001b[0m\u001b[1;33m\u001b[0m\u001b[0m\n\u001b[1;32m----> 6\u001b[1;33m     \u001b[0mcount\u001b[0m\u001b[1;33m+=\u001b[0m\u001b[1;36m1\u001b[0m\u001b[1;33m\u001b[0m\u001b[1;33m\u001b[0m\u001b[0m\n\u001b[0m\u001b[0;32m      7\u001b[0m     \u001b[0mpredict\u001b[0m \u001b[1;33m=\u001b[0m \u001b[0mnp\u001b[0m\u001b[1;33m.\u001b[0m\u001b[0mrandom\u001b[0m\u001b[1;33m.\u001b[0m\u001b[0mrandint\u001b[0m\u001b[1;33m(\u001b[0m\u001b[1;36m1\u001b[0m\u001b[1;33m,\u001b[0m\u001b[1;36m101\u001b[0m\u001b[1;33m)\u001b[0m \u001b[1;31m# предполагаемое число\u001b[0m\u001b[1;33m\u001b[0m\u001b[1;33m\u001b[0m\u001b[0m\n\u001b[0;32m      8\u001b[0m \u001b[1;32mif\u001b[0m \u001b[0mnumber\u001b[0m \u001b[1;33m==\u001b[0m \u001b[0mpredict\u001b[0m\u001b[1;33m:\u001b[0m\u001b[1;33m\u001b[0m\u001b[1;33m\u001b[0m\u001b[0m\n",
      "\u001b[1;31mNameError\u001b[0m: name 'count' is not defined"
     ]
    }
   ],
   "source": [
    "import numpy as np\n",
    "import random\n",
    "def game_core_v1(number):\n",
    "    count = 0\n",
    "while True:\n",
    "    count+=1\n",
    "    predict = np.random.randint(1,101) # предполагаемое число\n",
    "if number == predict: \n",
    "    return count # выход из цикла, если угадали\n",
    "def score_game(game_core):\n",
    "    count_ls = []\n",
    "    np.random.seed(1)  # фиксируем RANDOM SEED, чтобы ваш эксперимент был воспроизводим!\n",
    "    random_array = np.random.randint(1,101, size=(1000))\n",
    "for number in random_array:\n",
    "    count_ls.append(game_core(number))\n",
    "    score = int(np.mean(count_ls))\n",
    "print(f\"Ваш алгоритм угадывает число в среднем за {score} попыток\")\n",
    "return(score)\n",
    "score_game(game_core_v1)"
   ]
  },
  {
   "cell_type": "code",
   "execution_count": 140,
   "metadata": {},
   "outputs": [
    {
     "name": "stdout",
     "output_type": "stream",
     "text": [
      "Сгенерировано число от 1 до 100\n",
      "Алгоритм угадал число 32 за 6 попыток\n",
      "Алгоритм угадывает число в среднем за 6 попыток\n"
     ]
    }
   ],
   "source": [
    "import random\n",
    "import numpy as np\n",
    "random_number = np.random.randint(1, 101) \n",
    "print (f\"Сгенерировано число от {range_start} до {range_end}\")\n",
    "iteration_count=int()\n",
    "def random_function(random_number):\n",
    "    count = 0\n",
    "    left = range_start \n",
    "    right = range_end  \n",
    "    predict = 0\n",
    "    while predict != random_number:    \n",
    "        count += 1       \n",
    "        predict = (left+right) // 2       \n",
    "        if random_number == predict: break  \n",
    "        elif random_number > predict: \n",
    "            left = predict +1\n",
    "        elif random_number < predict: \n",
    "            right = predict -1\n",
    "    return(count)\n",
    "print (f\"Алгоритм угадал число {random_number} за {random_function(random_number)} попыток\")  \n",
    "def mean_count(random_function):\n",
    "    count_list = []\n",
    "    np.random.seed(1)\n",
    "    random_array = np.random.randint(1,101, size=(1000))\n",
    "    for number in random_array:\n",
    "        count_list.append(random_function(random_number))\n",
    "    score = int(np.mean(count_list))\n",
    "    return(score)\n",
    "print(f\"Алгоритм угадывает число в среднем за {random_function(random_number)} попыток\")\n"
   ]
  },
  {
   "cell_type": "code",
   "execution_count": null,
   "metadata": {},
   "outputs": [],
   "source": []
  },
  {
   "cell_type": "code",
   "execution_count": null,
   "metadata": {},
   "outputs": [],
   "source": []
  },
  {
   "cell_type": "code",
   "execution_count": null,
   "metadata": {},
   "outputs": [],
   "source": []
  }
 ],
 "metadata": {
  "kernelspec": {
   "display_name": "Python 3",
   "language": "python",
   "name": "python3"
  },
  "language_info": {
   "codemirror_mode": {
    "name": "ipython",
    "version": 3
   },
   "file_extension": ".py",
   "mimetype": "text/x-python",
   "name": "python",
   "nbconvert_exporter": "python",
   "pygments_lexer": "ipython3",
   "version": "3.8.5"
  }
 },
 "nbformat": 4,
 "nbformat_minor": 4
}
